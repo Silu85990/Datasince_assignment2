{
 "cells": [
  {
   "cell_type": "code",
   "execution_count": 1,
   "id": "d57ffd89-8817-4f71-94d2-ed06c5b8c39c",
   "metadata": {},
   "outputs": [],
   "source": [
    "Q1_ans = \"\"\"There are 2 types of comment in python\n",
    "         1-single line comment \n",
    "         2-multi line comment\n",
    "          single line comment starts with #\n",
    "          multi line comment start with three double quotes or three single quotes \"\"\""
   ]
  },
  {
   "cell_type": "code",
   "execution_count": 2,
   "id": "935e5308-3e30-422f-98d9-8ebe437b4587",
   "metadata": {},
   "outputs": [],
   "source": [
    "Q2_ans ='''A variable is a storage location that can be used to store data.\n",
    "        In Python, variables are not declared with a specific data type.\n",
    "        the variable contains diff. type of value such as int ,string , floating number etc.\n",
    "        \n",
    "        example; if A is a variable and we assign the value of A is 5\n",
    "                  like A = 5\n",
    "                  then when we call A is out put is come 5\n",
    "                  in this case A is the variable and 5 is the value of variable A. '''"
   ]
  },
  {
   "cell_type": "code",
   "execution_count": 1,
   "id": "a0cc7bec-1bae-4e57-8940-6c20b1077253",
   "metadata": {},
   "outputs": [],
   "source": [
    "Q3_ans  =''' To convert between types, you simply use the type name as a function. \n",
    "            There are several built-in functions to perform conversion from one data type to another.\n",
    "            These functions return a new object representing the converted value.\n",
    "            we use the built-in functions like int() , float() , str() , etc to perform explicit type conversion.\n",
    "            This type of conversion is also called typecasting because the we casts (changes) the data type of the objects.'''"
   ]
  },
  {
   "cell_type": "code",
   "execution_count": 2,
   "id": "ea85ebed-2372-4cc5-b86e-148c88494e33",
   "metadata": {},
   "outputs": [
    {
     "name": "stdout",
     "output_type": "stream",
     "text": [
      "[2, 3]\n"
     ]
    }
   ],
   "source": [
    "#Q5_ans\n",
    "my_list = [1,2,3,4,5]\n",
    "sub_list = my_list[1:3]\n",
    "print(sub_list)"
   ]
  },
  {
   "cell_type": "code",
   "execution_count": 3,
   "id": "cd20d054-1505-4cd8-825d-28eb9b7e78d4",
   "metadata": {},
   "outputs": [],
   "source": [
    "Q6_ans = ''' In mathmetics, a complex number is a number that have a real part and a imaginary part.\n",
    "            it was write in a form of a+bi .\n",
    "            where a is the real part and bi is the imaginary part.\n",
    "            \n",
    "            In Python, complex numbers are represented using the complex data type.\n",
    "            The imaginary unit is denoted by the letter \"j\". \n",
    "            Complex numbers can be created in Python by using the complex() function\n",
    "            or by directly specifying the real and imaginary parts.'''\n"
   ]
  },
  {
   "cell_type": "code",
   "execution_count": 4,
   "id": "92134e07-4b5f-40f2-ac1d-382a4035d655",
   "metadata": {},
   "outputs": [],
   "source": [
    "#Q7_ans\n",
    "\n",
    "age = 25"
   ]
  },
  {
   "cell_type": "code",
   "execution_count": 5,
   "id": "2c4431dc-28e3-4749-82ff-2441d255ef1a",
   "metadata": {},
   "outputs": [
    {
     "name": "stdout",
     "output_type": "stream",
     "text": [
      "<class 'float'>\n"
     ]
    }
   ],
   "source": [
    "#Q8_ans\n",
    "\n",
    "price = 9.99\n",
    "print (type(price))"
   ]
  },
  {
   "cell_type": "code",
   "execution_count": 6,
   "id": "d539bbd6-9ee6-4f9e-811a-a83d3549e4c1",
   "metadata": {},
   "outputs": [
    {
     "name": "stdout",
     "output_type": "stream",
     "text": [
      "Satyabrata Rout\n"
     ]
    }
   ],
   "source": [
    "#Q9_ans\n",
    "\n",
    "Name = \"Satyabrata Rout\"\n",
    "print(Name)"
   ]
  },
  {
   "cell_type": "code",
   "execution_count": 7,
   "id": "ebde6fd3-d133-49f2-a542-98dd6bd654bc",
   "metadata": {},
   "outputs": [
    {
     "name": "stdout",
     "output_type": "stream",
     "text": [
      "world\n"
     ]
    }
   ],
   "source": [
    "#Q10_ans\n",
    "\n",
    "string = \"hello world\"\n",
    "substring = string[6:11]\n",
    "print(substring)"
   ]
  },
  {
   "cell_type": "code",
   "execution_count": 10,
   "id": "b808458a-8325-46a0-bf60-16f4ac1b4d7c",
   "metadata": {},
   "outputs": [],
   "source": [
    "#Q11_ans\n",
    "\n",
    "is_student = True"
   ]
  },
  {
   "cell_type": "code",
   "execution_count": null,
   "id": "32c22e48-3cfa-4f95-b4da-6004f3e65399",
   "metadata": {},
   "outputs": [],
   "source": []
  }
 ],
 "metadata": {
  "kernelspec": {
   "display_name": "Python 3 (ipykernel)",
   "language": "python",
   "name": "python3"
  },
  "language_info": {
   "codemirror_mode": {
    "name": "ipython",
    "version": 3
   },
   "file_extension": ".py",
   "mimetype": "text/x-python",
   "name": "python",
   "nbconvert_exporter": "python",
   "pygments_lexer": "ipython3",
   "version": "3.10.8"
  }
 },
 "nbformat": 4,
 "nbformat_minor": 5
}
